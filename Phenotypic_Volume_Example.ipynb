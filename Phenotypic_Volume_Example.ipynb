{
 "cells": [
  {
   "cell_type": "code",
   "execution_count": null,
   "id": "4c79911b",
   "metadata": {},
   "outputs": [],
   "source": [
    "import pandas as pd\n",
    "import numpy as np\n",
    "import scanpy as sc\n",
    "import seaborn as sns\n",
    "import matplotlib.pyplot as plt\n",
    "\n",
    "import anndata\n",
    "import scipy\n",
    "import joblib\n",
    "import os"
   ]
  },
  {
   "cell_type": "code",
   "execution_count": null,
   "id": "0869719f",
   "metadata": {},
   "outputs": [],
   "source": [
    "file_name = '/workdir/data/adata.h5ad'\n",
    "output_dir = '/workdir/results/'\n",
    "\n",
    "adata = sc.read(file_name)"
   ]
  },
  {
   "cell_type": "code",
   "execution_count": null,
   "id": "31f1e351",
   "metadata": {},
   "outputs": [],
   "source": [
    "adata.X = adata.layers['X']\n",
    "#adata.X = adata.layers['logX']\n",
    "\n",
    "hvgs_list = adata[:,adata.var.highly_variable==True].var.index.tolist()\n",
    "\n",
    "QUERY = pd.DataFrame(data = adata[:,hvgs_list].X, \n",
    "                     index = adata[:,hvgs_list].obs['sample'].tolist(), \n",
    "                     columns = adata[:,hvgs_list].var.index.tolist())"
   ]
  },
  {
   "cell_type": "code",
   "execution_count": null,
   "id": "863f68ba",
   "metadata": {},
   "outputs": [],
   "source": [
    "# QUERY is a n cells by hvg pandas dataframe with the cell sample as the index\n",
    "\n",
    "print(QUERY.shape)\n",
    "QUERY.head()"
   ]
  },
  {
   "cell_type": "code",
   "execution_count": null,
   "id": "d01ebe14",
   "metadata": {},
   "outputs": [],
   "source": [
    "# n and reps should be chosen based on the distribution of sample size\n",
    "\n",
    "n = 2500\n",
    "reps = np.arange(50)"
   ]
  },
  {
   "cell_type": "markdown",
   "id": "11778170",
   "metadata": {},
   "source": [
    "This Next Code Block will take a significant amount of time, esepcially for a large number of samples and HVGs.\n",
    "Recommended to run in the background over night when the notebook is not needed"
   ]
  },
  {
   "cell_type": "code",
   "execution_count": null,
   "id": "5c520cb5",
   "metadata": {},
   "outputs": [],
   "source": [
    "# GENE-GENE COVARIANCE WITHIN EACH PATIENT\n",
    "\n",
    "logvolume_castle_dict = {}\n",
    "\n",
    "for s in QUERY.index.unique().tolist():\n",
    "    \n",
    "    print(s)\n",
    "\n",
    "    logvolume_castle_dict[s] = np.zeros(len(reps)) \n",
    "    \n",
    "    for rep in reps: \n",
    "        \n",
    "        print(rep)\n",
    "        \n",
    "        # Subset to current sample:\n",
    "        SUBSET = QUERY.loc[s].sample(n=n,replace=True) \n",
    "        \n",
    "        # Compute Gene Covariance:\n",
    "        GENE_COV = SUBSET.cov(min_periods=None) \n",
    "        \n",
    "        # Compute eigenvalues:\n",
    "        eigenvalues = np.linalg.eigvals(GENE_COV) \n",
    "        \n",
    "        # Compute logvolume:\n",
    "        logvolume = float(np.sum(0.5*np.log10(eigenvalues[eigenvalues>0]**2))/len(eigenvalues)) \n",
    "        logvolume_castle_dict[s][rep] = logvolume "
   ]
  },
  {
   "cell_type": "code",
   "execution_count": null,
   "id": "0493e02b",
   "metadata": {},
   "outputs": [],
   "source": [
    "# WRITE RESULTS TO DATAFRAME \n",
    "boxplot_data_goi = pd.DataFrame() \n",
    "boxplot_data_goi['Sample'] = np.ravel([[x]*len(logvolume_castle_dict[x]) \n",
    "                                       for x in QUERY.index.unique().tolist()])\n",
    "\n",
    "boxplot_data_goi['Log Phenotypic Volume'] = np.ravel([logvolume_castle_dict[x] \n",
    "                                                      for x in QUERY.index.unique().tolist()])\n",
    "\n",
    "# STATISTIC \n",
    "Stat_dict = {}\n",
    "\n",
    "for s in boxplot_data_goi['Sample'].unique().tolist():\n",
    "    \n",
    "    Stat_dict[s] = boxplot_data_goi.loc[boxplot_data_goi['Sample']==s]['Log Phenotypic Volume'].values \n",
    "    \n",
    "    # Pickle results incase needed later: \n",
    "    joblib.dump(Stat_dict[s], output_dir+f'Phenotypic_Volume_{s}') "
   ]
  },
  {
   "cell_type": "markdown",
   "id": "1d86cc19",
   "metadata": {},
   "source": [
    "The pickled phenotypic volume results above can be imported using joblib.load()"
   ]
  },
  {
   "cell_type": "code",
   "execution_count": null,
   "id": "84ab3649",
   "metadata": {},
   "outputs": [],
   "source": [
    "# Visualize using violin plot:\n",
    "\n",
    "fig, ax = plt.subplots(figsize=(7,7))\n",
    "\n",
    "ax = sns.violinplot(x='Sample', y='Log Phenotypic Volume', data=boxplot_data_goi,\n",
    "                    order=boxplot_data_goi.groupby('Sample').mean().\\\n",
    "                          sort_values(by='Log Phenotypic Volume').index.values,\n",
    "                    #hue='Status',\n",
    "                    #palette={'Alive': 'white', 'Deceased': 'gray'},\n",
    "                    dodge=False,\n",
    "                    scale='count')\n",
    "\n",
    "ax.spines['top'].set_visible(False)\n",
    "ax.spines['right'].set_visible(False)\n",
    "\n",
    "plt.xticks(rotation=90)\n",
    "\n",
    "# SAVE FIGURE\n",
    "figure_label = 'Phenotypic_Volume_Violin_by_Sample_count_scale'\n",
    "fn = output_dir + figure_label\n",
    "    \n",
    "d = os.path.dirname(fn)\n",
    "if not os.path.exists(d):\n",
    "    os.makedirs(d)\n",
    "    \n",
    "fig.savefig(fn + '.png', bbox_inches='tight',dpi=400)\n",
    "fig.savefig(fn + '.pdf', bbox_inches='tight',dpi=400)\n",
    "print(fn)"
   ]
  },
  {
   "cell_type": "markdown",
   "id": "4ca0fd87",
   "metadata": {},
   "source": [
    "Compute Mann Whitney U Test Between pairwise phenotyic volume distributions"
   ]
  },
  {
   "cell_type": "code",
   "execution_count": null,
   "id": "96bda64e",
   "metadata": {},
   "outputs": [],
   "source": [
    "for i in range(len(boxplot_data_goi['Sample'].unique().tolist())):\n",
    "    for j in range(i+1,len(boxplot_data_goi['Sample'].unique().tolist())):\n",
    "        \n",
    "        s1 = boxplot_data_goi['Sample'].unique().tolist()[i]\n",
    "        s2 = boxplot_data_goi['Sample'].unique().tolist()[j]\n",
    "        \n",
    "        stat, p = scipy.stats.mannwhitneyu(Stat_dict[s1], Stat_dict[s2])\n",
    "        \n",
    "        print(f'{s1} vs {s2} :')\n",
    "        print(f'Statistic = {stat}, p-value = {p}')\n",
    "        print('')"
   ]
  }
 ],
 "metadata": {
  "kernelspec": {
   "display_name": "Python 3",
   "language": "python",
   "name": "python3"
  },
  "language_info": {
   "codemirror_mode": {
    "name": "ipython",
    "version": 3
   },
   "file_extension": ".py",
   "mimetype": "text/x-python",
   "name": "python",
   "nbconvert_exporter": "python",
   "pygments_lexer": "ipython3",
   "version": "3.7.5"
  },
  "toc": {
   "base_numbering": 1,
   "nav_menu": {},
   "number_sections": true,
   "sideBar": true,
   "skip_h1_title": false,
   "title_cell": "Table of Contents",
   "title_sidebar": "Contents",
   "toc_cell": false,
   "toc_position": {},
   "toc_section_display": true,
   "toc_window_display": false
  }
 },
 "nbformat": 4,
 "nbformat_minor": 5
}
